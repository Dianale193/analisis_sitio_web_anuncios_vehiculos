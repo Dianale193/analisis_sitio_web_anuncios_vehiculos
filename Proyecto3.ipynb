{
 "cells": [
  {
   "cell_type": "markdown",
   "metadata": {},
   "source": [
    "# ¿Qué vende un coche?\n",
    "\n",
    "Eres un analista en Crankshaft List. Cientos de anuncios gratuitos de vehículos se publican en tu sitio web cada día. Necesitas estudiar los datos recopilados durante los últimos años y determinar qué factores influyen en el precio de un vehículo.\n",
    "- Tabla de Contenido \n",
    "    - Exploración de datos\n",
    "    - Tratar valores ausentes\n",
    "    - Corregir tips de datos\n",
    "    - Enriqueceer datos\n",
    "    - Estudiar valores atipicos\n",
    "    - Periodo de colocacion de los anuncios\n",
    "    - Precio promedio por cada tipo de vehiculo\n",
    "    - Factores que afectan el precio"
   ]
  },
  {
   "cell_type": "markdown",
   "metadata": {},
   "source": [
    "## Inicialización"
   ]
  },
  {
   "cell_type": "code",
   "execution_count": 1,
   "metadata": {},
   "outputs": [],
   "source": [
    "# Cargar todas las librerías\n",
    "\n",
    "import pandas as pd\n",
    "import numpy as np\n",
    "import matplotlib.pyplot as plt"
   ]
  },
  {
   "cell_type": "markdown",
   "metadata": {},
   "source": [
    "### Cargar datos"
   ]
  },
  {
   "cell_type": "code",
   "execution_count": 2,
   "metadata": {},
   "outputs": [],
   "source": [
    "# Carga el archivo de datos en un DataFrame\n",
    "\n",
    "df = pd.read_csv('/datasets/vehicles_us.csv')"
   ]
  },
  {
   "cell_type": "markdown",
   "metadata": {},
   "source": [
    "### Explorar datos iniciales"
   ]
  },
  {
   "cell_type": "markdown",
   "metadata": {},
   "source": [
    "El dataset contiene los siguientes campos:\n",
    "- `price`\n",
    "- `model_year`\n",
    "- `model`\n",
    "- `condition`\n",
    "- `cylinders`\n",
    "- `fuel` — gasolina, diesel, etc.\n",
    "- `odometer` — el millaje del vehículo cuando el anuncio fue publicado\n",
    "- `transmission`\n",
    "- `paint_color`\n",
    "- `is_4wd` — si el vehículo tiene tracción a las 4 ruedas (tipo Booleano)\n",
    "- `date_posted` — la fecha en la que el anuncio fue publicado\n",
    "- `days_listed` — desde la publicación hasta que se elimina\n",
    "\n"
   ]
  },
  {
   "cell_type": "code",
   "execution_count": 3,
   "metadata": {},
   "outputs": [
    {
     "name": "stdout",
     "output_type": "stream",
     "text": [
      "<class 'pandas.core.frame.DataFrame'>\n",
      "RangeIndex: 51525 entries, 0 to 51524\n",
      "Data columns (total 13 columns):\n",
      " #   Column        Non-Null Count  Dtype  \n",
      "---  ------        --------------  -----  \n",
      " 0   price         51525 non-null  int64  \n",
      " 1   model_year    47906 non-null  float64\n",
      " 2   model         51525 non-null  object \n",
      " 3   condition     51525 non-null  object \n",
      " 4   cylinders     46265 non-null  float64\n",
      " 5   fuel          51525 non-null  object \n",
      " 6   odometer      43633 non-null  float64\n",
      " 7   transmission  51525 non-null  object \n",
      " 8   type          51525 non-null  object \n",
      " 9   paint_color   42258 non-null  object \n",
      " 10  is_4wd        25572 non-null  float64\n",
      " 11  date_posted   51525 non-null  object \n",
      " 12  days_listed   51525 non-null  int64  \n",
      "dtypes: float64(4), int64(2), object(7)\n",
      "memory usage: 5.1+ MB\n",
      "None\n"
     ]
    }
   ],
   "source": [
    "# información general/resumida sobre el DataFrame\n",
    "\n",
    "print(df.info())"
   ]
  },
  {
   "cell_type": "code",
   "execution_count": 56,
   "metadata": {},
   "outputs": [
    {
     "name": "stdout",
     "output_type": "stream",
     "text": [
      "       price  model_year                  model  condition  cylinders fuel  \\\n",
      "18053  14995        2014    chevrolet silverado          4          6  gas   \n",
      "15033   2895        2001      toyota highlander          2          6  gas   \n",
      "6776    6995        2013          dodge charger          2          8  gas   \n",
      "44488  13000        2012  ford f-250 super duty          3          8  gas   \n",
      "9956   18490        2012               ram 1500          3          8  gas   \n",
      "\n",
      "       odometer transmission    type  paint_color  is_4wd date_posted  \\\n",
      "18053    174240    automatic   truck        white    True  2018-07-01   \n",
      "15033    129000    automatic     SUV       silver   False  2019-02-04   \n",
      "6776     179000    automatic   sedan  Desconocido   False  2018-11-19   \n",
      "44488    173000    automatic  pickup        white    True  2019-03-20   \n",
      "9956      44786    automatic   truck        black   False  2018-06-10   \n",
      "\n",
      "       days_listed  year_posted  years_old  miles_mean  \n",
      "18053           29         2018          4       43560  \n",
      "15033           14         2019         18        7166  \n",
      "6776            24         2018          5       35800  \n",
      "44488           23         2019          7       24714  \n",
      "9956             5         2018          6        7464  \n"
     ]
    }
   ],
   "source": [
    "# muestra de datos\n",
    "\n",
    "print(df.sample(5))"
   ]
  },
  {
   "cell_type": "code",
   "execution_count": 5,
   "metadata": {
    "scrolled": true
   },
   "outputs": [
    {
     "data": {
      "text/plain": [
       "price               0\n",
       "model_year       3619\n",
       "model               0\n",
       "condition           0\n",
       "cylinders        5260\n",
       "fuel                0\n",
       "odometer         7892\n",
       "transmission        0\n",
       "type                0\n",
       "paint_color      9267\n",
       "is_4wd          25953\n",
       "date_posted         0\n",
       "days_listed         0\n",
       "dtype: int64"
      ]
     },
     "execution_count": 5,
     "metadata": {},
     "output_type": "execute_result"
    }
   ],
   "source": [
    "# Cantidad de valores ausentes \n",
    "df.isna().sum().sort_values()"
   ]
  },
  {
   "cell_type": "markdown",
   "metadata": {},
   "source": [
    "Se observa los valores ausentes en las columnas model_year, cylinders, odometer, paint_color, is_4wd.\n",
    "La mayor cantidad de valores ausentes se encuentra en is_4wd. La siguiente variable con mayor cantidad de valores es paint_color.\n"
   ]
  },
  {
   "cell_type": "markdown",
   "metadata": {},
   "source": [
    "Hay columnas con datos inapropiados en model_year es tipo float64 y deberia ser un entero.\n",
    "La columna is_4wd es tipo de float64 pero los valores son true o false.\n"
   ]
  },
  {
   "cell_type": "markdown",
   "metadata": {},
   "source": [
    "### Conclusiones y siguientes pasos\n"
   ]
  },
  {
   "cell_type": "markdown",
   "metadata": {},
   "source": [
    "En la columna is_4wd reemplazare los valores NAN entonces los valores NAN deberian ser 0.\n",
    "\n",
    "Reemplazare los datos de la columna, agrupare los datos segun el tipo de vehiculo ya que # de cilindros deberia ser similar segun el tipo de auto.\n",
    "\n",
    "Hipotesis: En la columna model_year completare los valores ausentes con la mediana de los los valores de años agrupados por modelo de carro.\n"
   ]
  },
  {
   "cell_type": "markdown",
   "metadata": {},
   "source": [
    "# Tratar los valores ausentes (si hay)"
   ]
  },
  {
   "cell_type": "markdown",
   "metadata": {},
   "source": [
    "- Reemplace la mediana de los valores de la columna cylinder en los valores ausentes agrupados por el tipo de vehiculos."
   ]
  },
  {
   "cell_type": "code",
   "execution_count": 6,
   "metadata": {},
   "outputs": [],
   "source": [
    " \n",
    "def replace_cilindro(df):\n",
    "    median_cil=df.groupby('type')['cylinders'].median()\n",
    "    \n",
    "    df.loc[(df['type']=='bus')& df['cylinders'].isna(),'cylinders']= median_cil.loc['bus']\n",
    "    df.loc[(df['type']=='convertible')& df['cylinders'].isna(),'cylinders']= median_cil.loc['convertible']\n",
    "    df.loc[(df['type']=='coupe')& df['cylinders'].isna(),'cylinders']= median_cil.loc['coupe']\n",
    "    df.loc[(df['type']=='hatchback')& df['cylinders'].isna(),'cylinders']= median_cil.loc['hatchback']\n",
    "    df.loc[(df['type']=='mini-van')& df['cylinders'].isna(),'cylinders']= median_cil.loc['mini-van']\n",
    "    df.loc[(df['type']=='offroad')& df['cylinders'].isna(),'cylinders']= median_cil.loc['offroad']\n",
    "    df.loc[(df['type']=='other')& df['cylinders'].isna(),'cylinders']= median_cil.loc['other']\n",
    "    df.loc[(df['type']=='pickup')& df['cylinders'].isna(),'cylinders']= median_cil.loc['pickup']\n",
    "    df.loc[(df['type']=='sedan')& df['cylinders'].isna(),'cylinders']= median_cil.loc['sedan']\n",
    "    df.loc[(df['type']=='SUV')& df['cylinders'].isna(),'cylinders']= median_cil.loc['SUV']\n",
    "    df.loc[(df['type']=='truck')& df['cylinders'].isna(),'cylinders']= median_cil.loc['truck']\n",
    "    df.loc[(df['type']=='van')& df['cylinders'].isna(),'cylinders']= median_cil.loc['van']\n",
    "    df.loc[(df['type']=='wagon')& df['cylinders'].isna(),'cylinders']= median_cil.loc['wagon']\n",
    "    return df\n",
    "\n"
   ]
  },
  {
   "cell_type": "code",
   "execution_count": 7,
   "metadata": {},
   "outputs": [
    {
     "data": {
      "text/plain": [
       "price                  9200\n",
       "model_year           2008.0\n",
       "model           honda pilot\n",
       "condition         excellent\n",
       "cylinders               6.0\n",
       "fuel                    gas\n",
       "odometer           147191.0\n",
       "transmission      automatic\n",
       "type                    SUV\n",
       "paint_color            blue\n",
       "is_4wd                  1.0\n",
       "date_posted      2019-02-15\n",
       "days_listed              17\n",
       "Name: 9, dtype: object"
      ]
     },
     "execution_count": 7,
     "metadata": {},
     "output_type": "execute_result"
    }
   ],
   "source": [
    "#comprobando si funciono\n",
    "replace_cilindro(df).loc[9]\n"
   ]
  },
  {
   "cell_type": "markdown",
   "metadata": {},
   "source": [
    "- Reemplazare los valores NAN por \"0\" en la columna 'is_4wd'. Teniendo en cuenta que son datos booleanos."
   ]
  },
  {
   "cell_type": "code",
   "execution_count": 8,
   "metadata": {},
   "outputs": [
    {
     "name": "stdout",
     "output_type": "stream",
     "text": [
      "   price  model_year           model  condition  cylinders fuel  odometer  \\\n",
      "0   9400      2011.0          bmw x5       good        6.0  gas  145000.0   \n",
      "1  25500         NaN      ford f-150       good        6.0  gas   88705.0   \n",
      "2   5500      2013.0  hyundai sonata   like new        4.0  gas  110000.0   \n",
      "3   1500      2003.0      ford f-150       fair        8.0  gas       NaN   \n",
      "4  14900      2017.0    chrysler 200  excellent        4.0  gas   80903.0   \n",
      "\n",
      "  transmission    type paint_color  is_4wd date_posted  days_listed  \n",
      "0    automatic     SUV         NaN     1.0  2018-06-23           19  \n",
      "1    automatic  pickup       white     1.0  2018-10-19           50  \n",
      "2    automatic   sedan         red     0.0  2019-02-07           79  \n",
      "3    automatic  pickup         NaN     0.0  2019-03-22            9  \n",
      "4    automatic   sedan       black     0.0  2019-04-02           28  \n"
     ]
    }
   ],
   "source": [
    "\n",
    "df['is_4wd'] = df['is_4wd'].fillna(value=0)\n",
    "\n",
    "#comprobando si funciono\n",
    "print(df.head(5))\n"
   ]
  },
  {
   "cell_type": "markdown",
   "metadata": {},
   "source": [
    "- Los valores ausentes de la columna de modelyear, los rellenos con la mediana agrupados por el modelo de auto."
   ]
  },
  {
   "cell_type": "code",
   "execution_count": 9,
   "metadata": {},
   "outputs": [],
   "source": [
    " \n",
    "def modelyear_median(df, col, group_col):\n",
    "    median = df.groupby(group_col)[col].median()\n",
    "    return df[col].fillna(df[group_col].map(median))\n",
    "  "
   ]
  },
  {
   "cell_type": "code",
   "execution_count": 10,
   "metadata": {},
   "outputs": [],
   "source": [
    "df['model_year'] = modelyear_median(df, 'model_year', 'model')\n"
   ]
  },
  {
   "cell_type": "markdown",
   "metadata": {},
   "source": [
    "- Completé los valores nulos con la mediana de millas agrupados por su condición, basada en la hipotesis de que existe una relacion entre la condición del auto y las millas que recorrio."
   ]
  },
  {
   "cell_type": "code",
   "execution_count": 11,
   "metadata": {},
   "outputs": [
    {
     "data": {
      "text/plain": [
       "price                               5495\n",
       "model_year                        2003.0\n",
       "model           chevrolet silverado 1500\n",
       "condition                      excellent\n",
       "cylinders                            8.0\n",
       "fuel                                 gas\n",
       "odometer                        104230.0\n",
       "transmission                   automatic\n",
       "type                              pickup\n",
       "paint_color                          NaN\n",
       "is_4wd                               1.0\n",
       "date_posted                   2019-01-14\n",
       "days_listed                           34\n",
       "Name: 51452, dtype: object"
      ]
     },
     "execution_count": 11,
     "metadata": {},
     "output_type": "execute_result"
    }
   ],
   "source": [
    "def fill_odometer(df):\n",
    "    median_miles=df.groupby('condition')['odometer'].median()\n",
    "    \n",
    "    df.loc[(df['condition']=='excellent')& df['odometer'].isna(),'odometer']= median_miles.loc['excellent']\n",
    "    df.loc[(df['condition']=='fair')& df['odometer'].isna(),'odometer']= median_miles.loc['fair']\n",
    "    df.loc[(df['condition']=='good')& df['odometer'].isna(),'odometer']= median_miles.loc['good']\n",
    "    df.loc[(df['condition']=='like new')& df['odometer'].isna(),'odometer']= median_miles.loc['like new']\n",
    "    df.loc[(df['condition']=='new')& df['odometer'].isna(),'odometer']= median_miles.loc['new']\n",
    "    df.loc[(df['condition']=='salvage')& df['odometer'].isna(),'odometer']= median_miles.loc['salvage']\n",
    "    return df\n",
    "\n",
    "fill_odometer(df).loc[51452]\n",
    "\n"
   ]
  },
  {
   "cell_type": "markdown",
   "metadata": {},
   "source": [
    "- Reemplazare los datos vacio de la columna paint color por 'Desconocido' ya que no logro relacionar otra variable con el color del auto y comprobare que funciono sumando los valores nulos de la columna."
   ]
  },
  {
   "cell_type": "code",
   "execution_count": 12,
   "metadata": {},
   "outputs": [],
   "source": [
    "df['paint_color']=df['paint_color'].fillna('Desconocido')"
   ]
  },
  {
   "cell_type": "code",
   "execution_count": 13,
   "metadata": {},
   "outputs": [
    {
     "data": {
      "text/plain": [
       "0"
      ]
     },
     "execution_count": 13,
     "metadata": {},
     "output_type": "execute_result"
    }
   ],
   "source": [
    "df['paint_color'].isnull().sum()"
   ]
  },
  {
   "cell_type": "markdown",
   "metadata": {},
   "source": [
    "- A continuacion, muestro información del dataset sin valores ausentes."
   ]
  },
  {
   "cell_type": "code",
   "execution_count": 14,
   "metadata": {},
   "outputs": [
    {
     "name": "stdout",
     "output_type": "stream",
     "text": [
      "<class 'pandas.core.frame.DataFrame'>\n",
      "RangeIndex: 51525 entries, 0 to 51524\n",
      "Data columns (total 13 columns):\n",
      " #   Column        Non-Null Count  Dtype  \n",
      "---  ------        --------------  -----  \n",
      " 0   price         51525 non-null  int64  \n",
      " 1   model_year    51525 non-null  float64\n",
      " 2   model         51525 non-null  object \n",
      " 3   condition     51525 non-null  object \n",
      " 4   cylinders     51525 non-null  float64\n",
      " 5   fuel          51525 non-null  object \n",
      " 6   odometer      51525 non-null  float64\n",
      " 7   transmission  51525 non-null  object \n",
      " 8   type          51525 non-null  object \n",
      " 9   paint_color   51525 non-null  object \n",
      " 10  is_4wd        51525 non-null  float64\n",
      " 11  date_posted   51525 non-null  object \n",
      " 12  days_listed   51525 non-null  int64  \n",
      "dtypes: float64(4), int64(2), object(7)\n",
      "memory usage: 5.1+ MB\n",
      "None\n"
     ]
    }
   ],
   "source": [
    "print(df.info())"
   ]
  },
  {
   "cell_type": "markdown",
   "metadata": {},
   "source": [
    "## Corregir los tipos de datos"
   ]
  },
  {
   "cell_type": "markdown",
   "metadata": {},
   "source": [
    "Voy a corregir:\n",
    "- año del modelo, porque debe ser un entero. \n",
    "- is_4wd porque deberia ser booleano porque solo tiene dos opciones.\n",
    "- cylinders tambien debe ser un entero.\n",
    "- date_posted porque deberia tener un formato de fecha para luego extraer el año.\n",
    "\n",
    "Se tiene que corregir los datos ya que para el analisis posterior se necesitan ciertos tipos de datos, como fecha y entero."
   ]
  },
  {
   "cell_type": "code",
   "execution_count": 15,
   "metadata": {},
   "outputs": [],
   "source": [
    "df['model_year'] = df['model_year'].astype(int)\n",
    "df['is_4wd'] = df['is_4wd'].astype(bool)\n",
    "df['odometer'] =df['odometer'].astype(int)\n",
    "df['cylinders'] = df['cylinders'].astype(int)\n",
    "df['date_posted'] = pd.to_datetime(df['date_posted'])\n"
   ]
  },
  {
   "cell_type": "code",
   "execution_count": 16,
   "metadata": {},
   "outputs": [
    {
     "name": "stdout",
     "output_type": "stream",
     "text": [
      "<class 'pandas.core.frame.DataFrame'>\n",
      "RangeIndex: 51525 entries, 0 to 51524\n",
      "Data columns (total 13 columns):\n",
      " #   Column        Non-Null Count  Dtype         \n",
      "---  ------        --------------  -----         \n",
      " 0   price         51525 non-null  int64         \n",
      " 1   model_year    51525 non-null  int64         \n",
      " 2   model         51525 non-null  object        \n",
      " 3   condition     51525 non-null  object        \n",
      " 4   cylinders     51525 non-null  int64         \n",
      " 5   fuel          51525 non-null  object        \n",
      " 6   odometer      51525 non-null  int64         \n",
      " 7   transmission  51525 non-null  object        \n",
      " 8   type          51525 non-null  object        \n",
      " 9   paint_color   51525 non-null  object        \n",
      " 10  is_4wd        51525 non-null  bool          \n",
      " 11  date_posted   51525 non-null  datetime64[ns]\n",
      " 12  days_listed   51525 non-null  int64         \n",
      "dtypes: bool(1), datetime64[ns](1), int64(5), object(6)\n",
      "memory usage: 4.8+ MB\n",
      "None\n"
     ]
    }
   ],
   "source": [
    "\n",
    "print(df.info())\n"
   ]
  },
  {
   "cell_type": "markdown",
   "metadata": {},
   "source": [
    "## Enriquecer datos"
   ]
  },
  {
   "cell_type": "code",
   "execution_count": 17,
   "metadata": {},
   "outputs": [],
   "source": [
    "# Agrega valores de fecha y hora para cuando se colocó el anuncio\n",
    "df['year_posted'] = df['date_posted'].dt.year\n"
   ]
  },
  {
   "cell_type": "code",
   "execution_count": 18,
   "metadata": {},
   "outputs": [],
   "source": [
    "# Agrega los años del vehículo cuando el anuncio se colocó\n",
    "\n",
    "df['years_old'] = df['year_posted']-df['model_year']\n"
   ]
  },
  {
   "cell_type": "code",
   "execution_count": 19,
   "metadata": {},
   "outputs": [],
   "source": [
    "# Agrega el millaje promedio del vehículo por año\n",
    "\n",
    "df['miles_mean'] = df['odometer']/df['years_old']"
   ]
  },
  {
   "cell_type": "code",
   "execution_count": 20,
   "metadata": {},
   "outputs": [
    {
     "name": "stdout",
     "output_type": "stream",
     "text": [
      "3    24773\n",
      "2    20145\n",
      "4     4742\n",
      "1     1607\n",
      "5      143\n",
      "0      115\n",
      "Name: condition, dtype: int64\n"
     ]
    }
   ],
   "source": [
    "# Podría ser útil reemplazar los valores de condición con algo que se pueda manipular más fácilmente\n",
    "\n",
    "df['condition'] = df['condition'].replace({'new':'5', 'like new': '4', 'excellent':'3', 'good':'2','fair':'1','salvage':'0'})\n",
    "\n",
    "print(df['condition'].value_counts())\n",
    "\n"
   ]
  },
  {
   "cell_type": "code",
   "execution_count": 21,
   "metadata": {},
   "outputs": [],
   "source": [
    "#Cambiar el tipo de condition ahora que se convirtio en una escala de 0 al 5\n",
    "df['condition'] =df['condition'].astype(int)"
   ]
  },
  {
   "cell_type": "markdown",
   "metadata": {},
   "source": [
    "## Comprobar datos limpios"
   ]
  },
  {
   "cell_type": "markdown",
   "metadata": {},
   "source": [
    "Los datos se muestran corregidos y en la columna miles_mean muestra vaores nulos. "
   ]
  },
  {
   "cell_type": "code",
   "execution_count": 22,
   "metadata": {},
   "outputs": [
    {
     "name": "stdout",
     "output_type": "stream",
     "text": [
      "<class 'pandas.core.frame.DataFrame'>\n",
      "RangeIndex: 51525 entries, 0 to 51524\n",
      "Data columns (total 16 columns):\n",
      " #   Column        Non-Null Count  Dtype         \n",
      "---  ------        --------------  -----         \n",
      " 0   price         51525 non-null  int64         \n",
      " 1   model_year    51525 non-null  int64         \n",
      " 2   model         51525 non-null  object        \n",
      " 3   condition     51525 non-null  int64         \n",
      " 4   cylinders     51525 non-null  int64         \n",
      " 5   fuel          51525 non-null  object        \n",
      " 6   odometer      51525 non-null  int64         \n",
      " 7   transmission  51525 non-null  object        \n",
      " 8   type          51525 non-null  object        \n",
      " 9   paint_color   51525 non-null  object        \n",
      " 10  is_4wd        51525 non-null  bool          \n",
      " 11  date_posted   51525 non-null  datetime64[ns]\n",
      " 12  days_listed   51525 non-null  int64         \n",
      " 13  year_posted   51525 non-null  int64         \n",
      " 14  years_old     51525 non-null  int64         \n",
      " 15  miles_mean    51523 non-null  float64       \n",
      "dtypes: bool(1), datetime64[ns](1), float64(1), int64(8), object(5)\n",
      "memory usage: 5.9+ MB\n",
      "None\n"
     ]
    }
   ],
   "source": [
    "print(df.info())"
   ]
  },
  {
   "cell_type": "code",
   "execution_count": 23,
   "metadata": {},
   "outputs": [],
   "source": [
    "#Para lograr que miles mean se muestre un histograma no debe tener valores nulos ni valores no numéricos, valores faltantes (NaN)\n",
    "#o valores infinitos (inf)\n",
    "#por ello voy rellenar los dos valores NaN y reemplazar todos los valores a enteros\n",
    "df['miles_mean'] = df['miles_mean'].fillna(0)\n",
    "df['miles_mean'] = df['miles_mean'].replace([np.inf, -np.inf, np.nan], 0)\n",
    "df['miles_mean'] = df['miles_mean'].astype(int)"
   ]
  },
  {
   "cell_type": "code",
   "execution_count": 24,
   "metadata": {},
   "outputs": [
    {
     "name": "stdout",
     "output_type": "stream",
     "text": [
      "   price  model_year           model  condition  cylinders fuel  odometer  \\\n",
      "0   9400        2011          bmw x5          2          6  gas    145000   \n",
      "1  25500        2011      ford f-150          2          6  gas     88705   \n",
      "2   5500        2013  hyundai sonata          4          4  gas    110000   \n",
      "3   1500        2003      ford f-150          1          8  gas    181613   \n",
      "4  14900        2017    chrysler 200          3          4  gas     80903   \n",
      "\n",
      "  transmission    type  paint_color  is_4wd date_posted  days_listed  \\\n",
      "0    automatic     SUV  Desconocido    True  2018-06-23           19   \n",
      "1    automatic  pickup        white    True  2018-10-19           50   \n",
      "2    automatic   sedan          red   False  2019-02-07           79   \n",
      "3    automatic  pickup  Desconocido   False  2019-03-22            9   \n",
      "4    automatic   sedan        black   False  2019-04-02           28   \n",
      "\n",
      "   year_posted  years_old  miles_mean  \n",
      "0         2018          7       20714  \n",
      "1         2018          7       12672  \n",
      "2         2019          6       18333  \n",
      "3         2019         16       11350  \n",
      "4         2019          2       40451  \n"
     ]
    }
   ],
   "source": [
    "# imprimir una muestra de datos\n",
    "\n",
    "print(df.head(5))"
   ]
  },
  {
   "cell_type": "markdown",
   "metadata": {},
   "source": [
    "## Estudiar parámetros principales\n",
    "\n",
    "\n",
    "Los parámetros son:\n",
    "- Precio\n",
    "- Los años del vehículo cuando el anuncio se colocó\n",
    "- Millaje\n",
    "- Número de cilindros\n",
    "- Estado"
   ]
  },
  {
   "cell_type": "code",
   "execution_count": 25,
   "metadata": {},
   "outputs": [
    {
     "data": {
      "text/plain": [
       "array([[<AxesSubplot:title={'center':'price'}>]], dtype=object)"
      ]
     },
     "execution_count": 25,
     "metadata": {},
     "output_type": "execute_result"
    },
    {
     "data": {
      "image/png": "[encoded data removed]",
      "text/plain": [
       "<Figure size 432x288 with 1 Axes>"
      ]
     },
     "metadata": {
      "needs_background": "light"
     },
     "output_type": "display_data"
    }
   ],
   "source": [
    " # funcion para mostrar un histograma\n",
    "def histo_fun(col):\n",
    "  \n",
    "    return df.hist( col, bins=100)\n",
    "\n",
    "#histograma de los precios\n",
    "\n",
    "histo_fun('price')\n",
    "\n"
   ]
  },
  {
   "cell_type": "markdown",
   "metadata": {},
   "source": [
    "Se puede observar que todos los precios estan concentrados en valores menores a 50000 (aprox),y a partir de 70000(aprox) el histograma muestra valores mínimos casi cero. Ademas observo, una grann cantidad de valores Son valores extraños ya que un auto con precio tan bajo  es poco real. \n"
   ]
  },
  {
   "cell_type": "code",
   "execution_count": 26,
   "metadata": {},
   "outputs": [
    {
     "data": {
      "text/plain": [
       "array([[<AxesSubplot:title={'center':'years_old'}>]], dtype=object)"
      ]
     },
     "execution_count": 26,
     "metadata": {},
     "output_type": "execute_result"
    },
    {
     "data": {
      "image/png": "[encoded data removed]",
      "text/plain": [
       "<Figure size 432x288 with 1 Axes>"
      ]
     },
     "metadata": {
      "needs_background": "light"
     },
     "output_type": "display_data"
    }
   ],
   "source": [
    "# Histograma mostrando los años que tenian los autos cuando se anunciaron \n",
    "histo_fun('years_old')"
   ]
  },
  {
   "cell_type": "markdown",
   "metadata": {},
   "source": [
    "Se observa que tiene los autos en su mayoria tienen menos de 20 años y que tambien hay valores atipicos que \n",
    "extienden la cola del histograma. Tambien observamos que el numero de autos con 0 años es alto, es decir son vendidos el año que son comprados, probablemente sean autos nuevos o casi nuevos.\n"
   ]
  },
  {
   "cell_type": "code",
   "execution_count": 27,
   "metadata": {},
   "outputs": [
    {
     "data": {
      "text/plain": [
       "array([[<AxesSubplot:title={'center':'miles_mean'}>]], dtype=object)"
      ]
     },
     "execution_count": 27,
     "metadata": {},
     "output_type": "execute_result"
    },
    {
     "data": {
      "image/png": "[encoded data removed]",
      "text/plain": [
       "<Figure size 432x288 with 1 Axes>"
      ]
     },
     "metadata": {
      "needs_background": "light"
     },
     "output_type": "display_data"
    }
   ],
   "source": [
    "# Histograma del millaje promedio del vehículo por año\n",
    "histo_fun('miles_mean')"
   ]
  },
  {
   "cell_type": "markdown",
   "metadata": {},
   "source": [
    "En promedio los vehiculos han recorrido menos de 50000 millas por año. Se pueden observar que a partir de 150000 los datos de hacen casi cero, es decir la mayoria de autos no han recorrido mas de este millaje. "
   ]
  },
  {
   "cell_type": "code",
   "execution_count": 28,
   "metadata": {},
   "outputs": [
    {
     "data": {
      "text/plain": [
       "array([[<AxesSubplot:title={'center':'cylinders'}>]], dtype=object)"
      ]
     },
     "execution_count": 28,
     "metadata": {},
     "output_type": "execute_result"
    },
    {
     "data": {
      "image/png": "[encoded data removed]",
      "text/plain": [
       "<Figure size 432x288 with 1 Axes>"
      ]
     },
     "metadata": {
      "needs_background": "light"
     },
     "output_type": "display_data"
    }
   ],
   "source": [
    "# Histograma de número de cilindros de los autos \n",
    "histo_fun('cylinders')"
   ]
  },
  {
   "cell_type": "markdown",
   "metadata": {},
   "source": [
    "Se puede ver que la distribución esta concentrada en los valores (4,6,8)."
   ]
  },
  {
   "cell_type": "code",
   "execution_count": 29,
   "metadata": {},
   "outputs": [
    {
     "data": {
      "text/plain": [
       "array([[<AxesSubplot:title={'center':'condition'}>]], dtype=object)"
      ]
     },
     "execution_count": 29,
     "metadata": {},
     "output_type": "execute_result"
    },
    {
     "data": {
      "image/png": "[encoded data removed]",
      "text/plain": [
       "<Figure size 432x288 with 1 Axes>"
      ]
     },
     "metadata": {
      "needs_background": "light"
     },
     "output_type": "display_data"
    }
   ],
   "source": [
    "# Histograma de la condición de los autos\n",
    "histo_fun('condition')\n"
   ]
  },
  {
   "cell_type": "markdown",
   "metadata": {},
   "source": [
    "Los valores de estan en el tipo de condición 2 y 3. Estos datos muestran una distribución mas uniforme."
   ]
  },
  {
   "cell_type": "markdown",
   "metadata": {},
   "source": [
    "## Estudiar y tratar valores atípicos\n"
   ]
  },
  {
   "cell_type": "code",
   "execution_count": 30,
   "metadata": {},
   "outputs": [],
   "source": [
    "#Función para hallar limites\n",
    "def limite(df,column,x1,y1):\n",
    "\n",
    "    Q1 = df[column].quantile(0.25)\n",
    "    Q3 = df[column].quantile(0.75)\n",
    "    IQR = Q3 - Q1\n",
    "    \n",
    "    plt.ylim(x1,y1)\n",
    "    \n",
    "    plt.hlines(y= Q1-1.5*IQR, xmin=0.9, xmax=1.1, color='red') \n",
    "    plt.hlines(y= Q3+1.5*IQR, xmin=0.9, xmax=1.1, color='red')\n",
    "    df.boxplot(column)\n",
    " \n",
    "    print('Estadistica descriptiva')\n",
    "    print('                               ')\n",
    "    print(df[column].describe())\n",
    "\n",
    "    print('                               ')\n",
    "\n",
    "    print('Limite superior:', Q3+1.5*IQR)\n",
    "    print('Limite inferior:', Q1-1.5*IQR)"
   ]
  },
  {
   "cell_type": "code",
   "execution_count": 31,
   "metadata": {},
   "outputs": [
    {
     "name": "stdout",
     "output_type": "stream",
     "text": [
      "Estadistica descriptiva\n",
      "                               \n",
      "count     51525.000000\n",
      "mean      12132.464920\n",
      "std       10040.803015\n",
      "min           1.000000\n",
      "25%        5000.000000\n",
      "50%        9000.000000\n",
      "75%       16839.000000\n",
      "max      375000.000000\n",
      "Name: price, dtype: float64\n",
      "                               \n",
      "Limite superior: 34597.5\n",
      "Limite inferior: -12758.5\n"
     ]
    },
    {
     "data": {
      "image/png": "[encoded data removed]",
      "text/plain": [
       "<Figure size 432x288 with 1 Axes>"
      ]
     },
     "metadata": {
      "needs_background": "light"
     },
     "output_type": "display_data"
    }
   ],
   "source": [
    "# Límites inferiores y superiores para la columna precio\n",
    "limite(df,'price',-15000,100000)"
   ]
  },
  {
   "cell_type": "markdown",
   "metadata": {},
   "source": [
    "El diagrama nos indica que exiten valores atipicos, por encima del limite superior. Se puede observar que los valores se van alejando a partir del limite superior.  "
   ]
  },
  {
   "cell_type": "code",
   "execution_count": 32,
   "metadata": {},
   "outputs": [
    {
     "name": "stdout",
     "output_type": "stream",
     "text": [
      "Estadistica descriptiva\n",
      "                               \n",
      "count    51525.000000\n",
      "mean         8.513906\n",
      "std          6.112976\n",
      "min          0.000000\n",
      "25%          4.000000\n",
      "50%          8.000000\n",
      "75%         12.000000\n",
      "max        110.000000\n",
      "Name: years_old, dtype: float64\n",
      "                               \n",
      "Limite superior: 24.0\n",
      "Limite inferior: -8.0\n"
     ]
    },
    {
     "data": {
      "image/png": "[encoded data removed]",
      "text/plain": [
       "<Figure size 432x288 with 1 Axes>"
      ]
     },
     "metadata": {
      "needs_background": "light"
     },
     "output_type": "display_data"
    }
   ],
   "source": [
    "#Limite inferior y superior para antiguedad del auto(años)\n",
    "\n",
    "limite(df,'years_old',-10,80)\n"
   ]
  },
  {
   "cell_type": "markdown",
   "metadata": {},
   "source": [
    "Se observan valores atipicos a partir del limite superior 24."
   ]
  },
  {
   "cell_type": "code",
   "execution_count": 33,
   "metadata": {},
   "outputs": [
    {
     "name": "stdout",
     "output_type": "stream",
     "text": [
      "Estadistica descriptiva\n",
      "                               \n",
      "count     51525.000000\n",
      "mean      17507.888481\n",
      "std       14737.618819\n",
      "min           0.000000\n",
      "25%        9769.000000\n",
      "50%       14512.000000\n",
      "75%       21000.000000\n",
      "max      279365.000000\n",
      "Name: miles_mean, dtype: float64\n",
      "                               \n",
      "Limite superior: 37846.5\n",
      "Limite inferior: -7077.5\n"
     ]
    },
    {
     "data": {
      "image/png": "[encoded data removed]",
      "text/plain": [
       "<Figure size 432x288 with 1 Axes>"
      ]
     },
     "metadata": {
      "needs_background": "light"
     },
     "output_type": "display_data"
    }
   ],
   "source": [
    "#limite inferior y superior millaje promedio por año\n",
    "\n",
    "limite(df,'miles_mean',-10000,90000)\n"
   ]
  },
  {
   "cell_type": "code",
   "execution_count": 34,
   "metadata": {},
   "outputs": [
    {
     "name": "stdout",
     "output_type": "stream",
     "text": [
      "Estadistica descriptiva\n",
      "                               \n",
      "count    51525.000000\n",
      "mean         2.637535\n",
      "std          0.712447\n",
      "min          0.000000\n",
      "25%          2.000000\n",
      "50%          3.000000\n",
      "75%          3.000000\n",
      "max          5.000000\n",
      "Name: condition, dtype: float64\n",
      "                               \n",
      "Limite superior: 4.5\n",
      "Limite inferior: 0.5\n"
     ]
    },
    {
     "data": {
      "image/png": "[encoded data removed]",
      "text/plain": [
       "<Figure size 432x288 with 1 Axes>"
      ]
     },
     "metadata": {
      "needs_background": "light"
     },
     "output_type": "display_data"
    }
   ],
   "source": [
    "#Limite inferior y superior del estado del auto.\n",
    "limite(df,'condition',-1,6)\n"
   ]
  },
  {
   "cell_type": "code",
   "execution_count": 35,
   "metadata": {},
   "outputs": [
    {
     "name": "stdout",
     "output_type": "stream",
     "text": [
      "Estadistica descriptiva\n",
      "                               \n",
      "count    51525.000000\n",
      "mean         6.130810\n",
      "std          1.658414\n",
      "min          3.000000\n",
      "25%          4.000000\n",
      "50%          6.000000\n",
      "75%          8.000000\n",
      "max         12.000000\n",
      "Name: cylinders, dtype: float64\n",
      "                               \n",
      "Limite superior: 14.0\n",
      "Limite inferior: -2.0\n"
     ]
    },
    {
     "data": {
      "image/png": "[encoded data removed]",
      "text/plain": [
       "<Figure size 432x288 with 1 Axes>"
      ]
     },
     "metadata": {
      "needs_background": "light"
     },
     "output_type": "display_data"
    }
   ],
   "source": [
    "#Limites inferior y superior de la columna cilindros\n",
    "limite(df,'cylinders',-5,20)\n",
    "\n"
   ]
  },
  {
   "cell_type": "code",
   "execution_count": 36,
   "metadata": {},
   "outputs": [
    {
     "name": "stdout",
     "output_type": "stream",
     "text": [
      "<class 'pandas.core.frame.DataFrame'>\n",
      "Int64Index: 46384 entries, 0 to 51524\n",
      "Data columns (total 16 columns):\n",
      " #   Column        Non-Null Count  Dtype         \n",
      "---  ------        --------------  -----         \n",
      " 0   price         46384 non-null  int64         \n",
      " 1   model_year    46384 non-null  int64         \n",
      " 2   model         46384 non-null  object        \n",
      " 3   condition     46384 non-null  int64         \n",
      " 4   cylinders     46384 non-null  int64         \n",
      " 5   fuel          46384 non-null  object        \n",
      " 6   odometer      46384 non-null  int64         \n",
      " 7   transmission  46384 non-null  object        \n",
      " 8   type          46384 non-null  object        \n",
      " 9   paint_color   46384 non-null  object        \n",
      " 10  is_4wd        46384 non-null  bool          \n",
      " 11  date_posted   46384 non-null  datetime64[ns]\n",
      " 12  days_listed   46384 non-null  int64         \n",
      " 13  year_posted   46384 non-null  int64         \n",
      " 14  years_old     46384 non-null  int64         \n",
      " 15  miles_mean    46384 non-null  int64         \n",
      "dtypes: bool(1), datetime64[ns](1), int64(9), object(5)\n",
      "memory usage: 5.7+ MB\n",
      "None\n"
     ]
    }
   ],
   "source": [
    "# Almacena los datos sin valores atípicos en un DataFrame separado\n",
    "\n",
    "df_limpio= df.query('10<price<=40000 and years_old<=24 and 0.5<=condition<=4.5 and miles_mean<= 40000')\n",
    "\n",
    "\n",
    "print(df_limpio.info())\n"
   ]
  },
  {
   "cell_type": "markdown",
   "metadata": {},
   "source": [
    "El nuevo Dataframe no contiene valores atipicos, use los limites calculados para limpiar los valores atipicos.\n",
    "Las columnas que contenian valores atipicos eran price, mile_mean, codition y years old.  \n",
    "La columna cylinder no presenta valores atipicos.\n"
   ]
  },
  {
   "cell_type": "markdown",
   "metadata": {},
   "source": [
    "## Estudiar parámetros principales sin valores atípicos"
   ]
  },
  {
   "cell_type": "code",
   "execution_count": 37,
   "metadata": {},
   "outputs": [
    {
     "data": {
      "text/plain": [
       "Text(0.5, 0, 'Años del vehículo')"
      ]
     },
     "execution_count": 37,
     "metadata": {},
     "output_type": "execute_result"
    },
    {
     "data": {
      "image/png": "[encoded data removed]",
      "text/plain": [
       "<Figure size 432x288 with 1 Axes>"
      ]
     },
     "metadata": {
      "needs_background": "light"
     },
     "output_type": "display_data"
    }
   ],
   "source": [
    "df['years_old'].hist(bins=25)\n",
    "df_limpio['years_old'].hist(bins=25) \n",
    "plt.title('Distribución de años del vehiculo')\n",
    "plt.xlabel('Años del vehículo')\n"
   ]
  },
  {
   "cell_type": "markdown",
   "metadata": {},
   "source": [
    "El histograma nos muestra que luego de la limpieza, los datos se distribuyen de manera mas uniforme y ya no incluyen valores considerados atipicos en la sección anterior. Los valores de cero años tambien han disminuido "
   ]
  },
  {
   "cell_type": "code",
   "execution_count": 38,
   "metadata": {},
   "outputs": [
    {
     "data": {
      "text/plain": [
       "Text(0.5, 0, 'Precio')"
      ]
     },
     "execution_count": 38,
     "metadata": {},
     "output_type": "execute_result"
    },
    {
     "data": {
      "image/png": "[encoded data removed]",
      "text/plain": [
       "<Figure size 432x288 with 1 Axes>"
      ]
     },
     "metadata": {
      "needs_background": "light"
     },
     "output_type": "display_data"
    }
   ],
   "source": [
    "df['price'].hist(bins=25)\n",
    "df_limpio['price'].hist(bins=25) \n",
    "plt.title('Distribución de precios')\n",
    "plt.xlabel('Precio')\n"
   ]
  },
  {
   "cell_type": "markdown",
   "metadata": {},
   "source": [
    "Podemos ver una gran diferencia entre los histogramas, se reducieron los precios y la distribución es mas uniforme."
   ]
  },
  {
   "cell_type": "code",
   "execution_count": 39,
   "metadata": {},
   "outputs": [
    {
     "data": {
      "text/plain": [
       "Text(0.5, 0, 'Condición del vehiculo')"
      ]
     },
     "execution_count": 39,
     "metadata": {},
     "output_type": "execute_result"
    },
    {
     "data": {
      "image/png": "[encoded data removed]",
      "text/plain": [
       "<Figure size 432x288 with 1 Axes>"
      ]
     },
     "metadata": {
      "needs_background": "light"
     },
     "output_type": "display_data"
    }
   ],
   "source": [
    "df['condition'].hist(bins=25)\n",
    "df_limpio['condition'].hist(bins=25) \n",
    "plt.title('Distrbución de la condicion del vehiculo')\n",
    "plt.xlabel('Condición del vehiculo')\n"
   ]
  },
  {
   "cell_type": "markdown",
   "metadata": {},
   "source": [
    "Se puede observar que ambos data set son bastante similares. Se eliminaron los valores atipicos y se muestra un histrograma distribuido de manera uniforme."
   ]
  },
  {
   "cell_type": "code",
   "execution_count": 40,
   "metadata": {},
   "outputs": [
    {
     "data": {
      "text/plain": [
       "Text(0.5, 0, 'Millas del vehículo')"
      ]
     },
     "execution_count": 40,
     "metadata": {},
     "output_type": "execute_result"
    },
    {
     "data": {
      "image/png": "[encoded data removed]",
      "text/plain": [
       "<Figure size 432x288 with 1 Axes>"
      ]
     },
     "metadata": {
      "needs_background": "light"
     },
     "output_type": "display_data"
    }
   ],
   "source": [
    "df['miles_mean'].hist(bins=25)\n",
    "df_limpio['miles_mean'].hist(bins=25) \n",
    "plt.title('Distribución del millaje de los vehiculos')\n",
    "plt.xlabel('Millas del vehículo')\n"
   ]
  },
  {
   "cell_type": "markdown",
   "metadata": {},
   "source": [
    "## Periodo de colocación de los anuncios\n"
   ]
  },
  {
   "cell_type": "markdown",
   "metadata": {},
   "source": [
    "Distribución de cuantos dias los anuncios fueron mostrados."
   ]
  },
  {
   "cell_type": "code",
   "execution_count": 41,
   "metadata": {},
   "outputs": [
    {
     "data": {
      "text/plain": [
       "Text(0, 0.5, 'Cantidad de anuncios')"
      ]
     },
     "execution_count": 41,
     "metadata": {},
     "output_type": "execute_result"
    },
    {
     "data": {
      "image/png": "[encoded data removed]",
      "text/plain": [
       "<Figure size 432x288 with 1 Axes>"
      ]
     },
     "metadata": {
      "needs_background": "light"
     },
     "output_type": "display_data"
    }
   ],
   "source": [
    "df_limpio['days_listed'].hist(bins=25)\n",
    "plt.title('Distribucion Dias de anuncio')\n",
    "plt.xlabel('Dias de anuncio')\n",
    "plt.ylabel('Cantidad de anuncios')"
   ]
  },
  {
   "cell_type": "code",
   "execution_count": 42,
   "metadata": {},
   "outputs": [
    {
     "name": "stdout",
     "output_type": "stream",
     "text": [
      "Estadistica descriptiva\n",
      "                               \n",
      "count    46384.000000\n",
      "mean        39.579726\n",
      "std         28.262406\n",
      "min          0.000000\n",
      "25%         19.000000\n",
      "50%         33.000000\n",
      "75%         53.000000\n",
      "max        271.000000\n",
      "Name: days_listed, dtype: float64\n",
      "                               \n",
      "Limite superior: 104.0\n",
      "Limite inferior: -32.0\n"
     ]
    },
    {
     "data": {
      "image/png": "[encoded data removed]",
      "text/plain": [
       "<Figure size 432x288 with 1 Axes>"
      ]
     },
     "metadata": {
      "needs_background": "light"
     },
     "output_type": "display_data"
    }
   ],
   "source": [
    "QDAY1 = df_limpio['days_listed'].quantile(0.25)\n",
    "QDAY3 = df_limpio['days_listed'].quantile(0.75)\n",
    "IQRDAY = QDAY3 - QDAY1\n",
    "\n",
    "plt.ylim(-40,300) # establece el rango para el eje vertical\n",
    "df_limpio.boxplot('days_listed')\n",
    "plt.hlines(y= QDAY1-1.5*IQRDAY, xmin=0.9, xmax=1.1, color='red') \n",
    "plt.hlines(y= QDAY3+1.5*IQRDAY, xmin=0.9, xmax=1.1, color='red') \n",
    "\n",
    "\n",
    "print('Estadistica descriptiva')\n",
    "print('                               ')\n",
    "print(df_limpio['days_listed'].describe())\n",
    "\n",
    "print('                               ')\n",
    "\n",
    "print('Limite superior:', QDAY3+1.5*IQRDAY)\n",
    "print('Limite inferior:', QDAY1-1.5*IQRDAY)"
   ]
  },
  {
   "cell_type": "markdown",
   "metadata": {},
   "source": [
    "La mediana nos indica el periodo de colocación habitual de los anuncios, es decir que la mitad de los anuncios se colocan en un tiempo igual o inferior a 33 días. El valor máximo es de 271 días, lo que sugiere que algunos anuncios pueden tardar hasta 9 meses en colocarse.El histograma nos da una luz de que existen valores anormales y con el diagrama de bigotes comprobamos que a partir de 104 dias se consideran publicaciones con un tiempo anormalmente largos. Por otro lado un 25% de los anuncios son eliminados en menos de 19 dias lo que se podria considerar rápido a diferencia de la media de los anuncios."
   ]
  },
  {
   "cell_type": "markdown",
   "metadata": {},
   "source": [
    "## Precio promedio por cada tipo de vehículo"
   ]
  },
  {
   "cell_type": "markdown",
   "metadata": {},
   "source": [
    "[Analiza el número de anuncios y el precio promedio para cada tipo de vehículo. Traza un gráfico mostrando la dependencia de la cantidad de anuncios en cada tipo de vehículo. Selecciona los dos tipos con un mayor número de anuncios.]"
   ]
  },
  {
   "cell_type": "markdown",
   "metadata": {},
   "source": [
    "En la siguiente tabla se muestra el precio promedio por cada tipo de vehiculo."
   ]
  },
  {
   "cell_type": "code",
   "execution_count": 43,
   "metadata": {},
   "outputs": [
    {
     "name": "stdout",
     "output_type": "stream",
     "text": [
      "             price\n",
      "type              \n",
      "SUV           8500\n",
      "bus          10500\n",
      "convertible  12980\n",
      "coupe        12500\n",
      "hatchback     5900\n",
      "mini-van      5999\n",
      "offroad      12500\n",
      "other         8800\n",
      "pickup       13695\n",
      "sedan         5995\n",
      "truck        14500\n",
      "van           7990\n",
      "wagon         7500\n"
     ]
    }
   ],
   "source": [
    "precio_prom = df_limpio.pivot_table(\n",
    "     index= 'type', values='price', aggfunc='median')\n",
    "print(precio_prom)"
   ]
  },
  {
   "cell_type": "markdown",
   "metadata": {},
   "source": [
    "En la tabla precio_prom se observa que el precio promedio mayor es para el tipo de auto Truck, pick up y offroad. Pero no podemos determinar si este promedio es por mayor cantidad de autos o por que tiene un precio mayor por el tipo de auto. \n"
   ]
  },
  {
   "cell_type": "markdown",
   "metadata": {},
   "source": [
    " En la siguientee tabla se muestra el número de anuncios por tipo de vehiculo. "
   ]
  },
  {
   "cell_type": "code",
   "execution_count": 44,
   "metadata": {},
   "outputs": [
    {
     "name": "stdout",
     "output_type": "stream",
     "text": [
      "           type  cantidad\n",
      "0           SUV     11346\n",
      "1         sedan     11239\n",
      "2         truck     10732\n",
      "3        pickup      6304\n",
      "4         coupe      1885\n",
      "5         wagon      1479\n",
      "6      mini-van      1089\n",
      "7     hatchback       952\n",
      "8           van       589\n",
      "9   convertible       335\n",
      "10        other       227\n",
      "11      offroad       184\n",
      "12          bus        23\n"
     ]
    }
   ],
   "source": [
    "cant_anuncios = df_limpio['type'].value_counts().reset_index()\n",
    "cant_anuncios.columns = ['type', 'cantidad']\n",
    "print(cant_anuncios)"
   ]
  },
  {
   "cell_type": "code",
   "execution_count": 45,
   "metadata": {},
   "outputs": [
    {
     "data": {
      "image/png": "[encoded data removed]",
      "text/plain": [
       "<Figure size 432x288 with 1 Axes>"
      ]
     },
     "metadata": {
      "needs_background": "light"
     },
     "output_type": "display_data"
    }
   ],
   "source": [
    "cant_anuncios.plot(x='type', y='cantidad', kind='bar')\n",
    "plt.title('Cantidad por Tipo de Vehículo')\n",
    "plt.xlabel('Tipo de Vehículo')\n",
    "plt.ylabel('Cantidad')\n",
    "plt.show()"
   ]
  },
  {
   "cell_type": "markdown",
   "metadata": {},
   "source": [
    "Este diagrama de barras muestra que los dos tipos de vehiculos con mayor cantidad de anuncios son el tipo SUV y sedan. "
   ]
  },
  {
   "cell_type": "code",
   "execution_count": 46,
   "metadata": {},
   "outputs": [
    {
     "data": {
      "image/png": "[encoded data removed]",
      "text/plain": [
       "<Figure size 432x288 with 1 Axes>"
      ]
     },
     "metadata": {
      "needs_background": "light"
     },
     "output_type": "display_data"
    },
    {
     "name": "stdout",
     "output_type": "stream",
     "text": [
      "           type  price  cantidad\n",
      "0           SUV   8500     11346\n",
      "9         sedan   5995     11239\n",
      "10        truck  14500     10732\n",
      "8        pickup  13695      6304\n",
      "3         coupe  12500      1885\n",
      "12        wagon   7500      1479\n",
      "5      mini-van   5999      1089\n",
      "4     hatchback   5900       952\n",
      "11          van   7990       589\n",
      "2   convertible  12980       335\n",
      "7         other   8800       227\n",
      "6       offroad  12500       184\n",
      "1           bus  10500        23\n"
     ]
    }
   ],
   "source": [
    "cant_anuncios['type'] = cant_anuncios['type'].astype(str)\n",
    "df_combinado = pd.merge(precio_prom, cant_anuncios, on='type')\n",
    "df_combinado.plot.scatter(x='price', y='cantidad')\n",
    "plt.title('Relación entre Precio y Cantidad de Anuncios por Tipo de Vehículo')\n",
    "plt.xlabel('Precio Medio')\n",
    "plt.ylabel('Cantidad de Anuncios')\n",
    "plt.show()\n",
    "\n",
    "print(df_combinado.sort_values(['cantidad'],ascending=False))"
   ]
  },
  {
   "cell_type": "markdown",
   "metadata": {},
   "source": [
    "Con este Grafico de dispersion observamos que los tipos de vehiculo mas anunciados son de tipo SUV y Sedan sin embargo sus precios son menores a la media, por otro lado el tipo Truck tiene el precio promedio mas alto y tambien una mayor cantidad de anuncios."
   ]
  },
  {
   "cell_type": "markdown",
   "metadata": {},
   "source": [
    "## Factores de precio"
   ]
  },
  {
   "cell_type": "markdown",
   "metadata": {},
   "source": [
    "Creare un dataset que incluya solo los 3 tipos de vehiculos mas populares (SUV, sedan y truck) y que incluya solo las columnas que impacten al precio. \n"
   ]
  },
  {
   "cell_type": "code",
   "execution_count": 47,
   "metadata": {},
   "outputs": [
    {
     "name": "stdout",
     "output_type": "stream",
     "text": [
      "              price  years_old  condition  odometer\n",
      "price      1.000000  -0.525224   0.245019 -0.427432\n",
      "years_old -0.525224   1.000000  -0.321710  0.550234\n",
      "condition  0.245019  -0.321710   1.000000 -0.349858\n",
      "odometer  -0.427432   0.550234  -0.349858  1.000000\n"
     ]
    }
   ],
   "source": [
    "\n",
    "df_suv= df_limpio.query('type==\"SUV\" or type==\"sedan\"or type ==\"truck\"')\n",
    "columnas=['price','years_old','condition','transmission','paint_color','odometer']\n",
    "df_filtro=df_suv[columnas]\n",
    "\n",
    "#Cree la matriz de correlacion para verificar la correlacion de las variables numericas\n",
    "print(df_filtro.corr())"
   ]
  },
  {
   "cell_type": "code",
   "execution_count": 48,
   "metadata": {},
   "outputs": [
    {
     "data": {
      "image/png": "[encoded data removed]",
      "text/plain": [
       "<Figure size 432x288 with 1 Axes>"
      ]
     },
     "metadata": {
      "needs_background": "light"
     },
     "output_type": "display_data"
    }
   ],
   "source": [
    "#funcion para crear un grafico de dispersion\n",
    "def graf_disp(df_filtro,varx,vary):\n",
    "    df_filtro.plot(x=varx, y=vary, kind='scatter', alpha=0.03)\n",
    "\n",
    "#Grafico dispersion años vs precio\n",
    "graf_disp(df_filtro,'years_old','price')"
   ]
  },
  {
   "cell_type": "code",
   "execution_count": 49,
   "metadata": {},
   "outputs": [
    {
     "data": {
      "image/png": "[encoded data removed]",
      "text/plain": [
       "<Figure size 432x288 with 1 Axes>"
      ]
     },
     "metadata": {
      "needs_background": "light"
     },
     "output_type": "display_data"
    }
   ],
   "source": [
    "#Grafico dispersion millas vs precio\n",
    "graf_disp(df_filtro,'odometer','price')"
   ]
  },
  {
   "cell_type": "code",
   "execution_count": 50,
   "metadata": {},
   "outputs": [
    {
     "data": {
      "image/png": "[encoded data removed]",
      "text/plain": [
       "<Figure size 432x288 with 1 Axes>"
      ]
     },
     "metadata": {
      "needs_background": "light"
     },
     "output_type": "display_data"
    }
   ],
   "source": [
    "graf_disp(df_filtro,'condition','price')"
   ]
  },
  {
   "cell_type": "markdown",
   "metadata": {},
   "source": [
    "Podemos ver que la variable de años tiene la correlación con el precio más fuerte de toda la matriz, sin embargo podria ser mas fuerte para afirmar una relacion de causa y efecto. El valor de -0,52 significa que cuando la variable años aumenta, la variable precio tiende a disminuir.\n",
    "\n",
    "La variable de recorrido(millas) tiene un valor de -0.42 esto significa que cuando una variable aumenta, la otra variable también tiende a disminuir, y la relación entre ellas es moderadamente fuerte.\n",
    "\n",
    "La correlación de 0.24 entre el precio y la condicion del vehiculo indica una relación positiva débil entre las dos variables."
   ]
  },
  {
   "cell_type": "code",
   "execution_count": 51,
   "metadata": {},
   "outputs": [
    {
     "data": {
      "image/png": "[encoded data removed]",
      "text/plain": [
       "<Figure size 720x360 with 1 Axes>"
      ]
     },
     "metadata": {
      "needs_background": "light"
     },
     "output_type": "display_data"
    }
   ],
   "source": [
    "df_limpio.boxplot(column=['price'], by=['transmission'],figsize=(10,5))\n",
    "plt.show()"
   ]
  },
  {
   "cell_type": "code",
   "execution_count": 52,
   "metadata": {},
   "outputs": [
    {
     "data": {
      "text/plain": [
       "automatic    42558\n",
       "manual        2470\n",
       "other         1356\n",
       "Name: transmission, dtype: int64"
      ]
     },
     "execution_count": 52,
     "metadata": {},
     "output_type": "execute_result"
    }
   ],
   "source": [
    "df_limpio['transmission'].value_counts()\n"
   ]
  },
  {
   "cell_type": "markdown",
   "metadata": {},
   "source": [
    "Con el grafico podemos ver que hay una mayor cantidad de vehiculos de tipo automatic y que en promedio su precio es mayor a los otros dos tipos. En el caso del manual en promedio son mas economicossin embargo algunos vehiculos meacanicos son igual de caros que los automaticos.Y en el caso de otros hay vehiculos con precio sbajos pero tambiencn precios muy altos por ello su mediana es mayor. \n",
    "En conclusion si hay una relacion precio - transmision aunque podriamos analizar mas variables pra confirmar."
   ]
  },
  {
   "cell_type": "code",
   "execution_count": 53,
   "metadata": {},
   "outputs": [
    {
     "data": {
      "image/png": "[encoded data removed]",
      "text/plain": [
       "<Figure size 1008x648 with 1 Axes>"
      ]
     },
     "metadata": {
      "needs_background": "light"
     },
     "output_type": "display_data"
    }
   ],
   "source": [
    "df_limpio.boxplot(column=['price'], by=['paint_color'],figsize=(14,9))\n",
    "plt.show()"
   ]
  },
  {
   "cell_type": "markdown",
   "metadata": {},
   "source": [
    "Podemos ver que cada color tiene una distribución de datos distinta segun el precio de los vehiculos. Las mediana es similar en todos los colores, lo que nos indica que el precio no varia demasiado segun el color en promedio. Podria indicar que se deberiamos analizar mas variables para determinar una relacion fuerte precio - color de vehiculo."
   ]
  },
  {
   "cell_type": "markdown",
   "metadata": {},
   "source": [
    "## Conclusión general\n"
   ]
  },
  {
   "cell_type": "markdown",
   "metadata": {},
   "source": [
    "- Pude encontrar que si exitian valores ausentes en las columnas model_year, cylinders, odometer, paint_color, is_4wd. Reemplaze dichos valores segun cada variable usando hipotesis viables, como lo explico en el apartado 'Valores ausentes'.\n",
    "- Modifique los tipos de datos a int(), datetime y booleano, segun correspondia para luego usarlos par graficar histogramas y boxplots.\n",
    "- Añadi columna de years_old, ademas cambie la variable condicion por un rango de numeros Y calcule el promedio de millas por años para facilitar calculos posteriores. \n",
    "- Graficque histogramas para conocer la ditribución de los datos, luego con el diagrama de cajas pude identificar los valores atipicos y las medianas de las columnas y asi limpiar mis datos sin eliminar valores relevantes para el analisis.\n",
    "- Sobre el periodo de colocacion de los anuncios, en promedio demora 33 dias, sin embargo hay anuncios con hasta 271 dias de publicación.\n",
    "- El precio promedio mas alto son de Truck, pick up y offroad. Y en cantidad de anuncios segun los tipos son SUV y sedan.\n",
    "- De la variables númericas podemos indicar que hay una correlacion precio - años, . y otra correlacion precio - recorrido(millas). Aunque no sean tan fuertes.\n",
    "- Con las graficas podria decir que existe una relación entre el precio y el tipo de transmisión, ya que la distribución de los precios es diferente entre los diferentes tipos de transmisión.\n",
    "- De igual manera con la relacion precio y color, ya que tiene una distribución distinta por color.\n"
   ]
  },
  {
   "cell_type": "code",
   "execution_count": null,
   "metadata": {},
   "outputs": [],
   "source": []
  }
 ],
 "metadata": {
  "ExecuteTimeLog": [
   {
    "duration": 828,
    "start_time": "2021-11-16T09:21:11.304Z"
   },
   {
    "duration": 893,
    "start_time": "2021-11-16T09:21:17.728Z"
   },
   {
    "duration": 1150,
    "start_time": "2021-11-16T09:21:29.568Z"
   },
   {
    "duration": 3,
    "start_time": "2021-11-16T09:24:14.495Z"
   },
   {
    "duration": 120,
    "start_time": "2021-11-16T09:24:46.630Z"
   },
   {
    "duration": 3,
    "start_time": "2021-11-16T09:28:27.882Z"
   },
   {
    "duration": 4,
    "start_time": "2021-11-16T09:29:54.281Z"
   },
   {
    "duration": 3,
    "start_time": "2021-11-16T09:30:45.936Z"
   },
   {
    "duration": 4,
    "start_time": "2021-11-16T09:31:06.300Z"
   },
   {
    "duration": 113,
    "start_time": "2021-11-16T09:31:37.208Z"
   },
   {
    "duration": 143,
    "start_time": "2021-11-16T09:31:48.656Z"
   },
   {
    "duration": 98,
    "start_time": "2021-11-16T09:31:55.678Z"
   },
   {
    "duration": 3,
    "start_time": "2021-11-16T09:32:08.535Z"
   },
   {
    "duration": 111,
    "start_time": "2021-11-16T09:32:10.120Z"
   },
   {
    "duration": 3,
    "start_time": "2021-11-16T09:32:15.732Z"
   },
   {
    "duration": 4,
    "start_time": "2021-11-16T09:32:29.423Z"
   },
   {
    "duration": 3,
    "start_time": "2021-11-16T10:03:03.074Z"
   },
   {
    "duration": 3,
    "start_time": "2021-11-16T10:10:01.288Z"
   },
   {
    "duration": 3,
    "start_time": "2021-11-16T10:10:46.923Z"
   },
   {
    "duration": 121,
    "start_time": "2021-11-16T10:37:46.494Z"
   },
   {
    "duration": 125,
    "start_time": "2021-11-16T10:38:20.632Z"
   },
   {
    "duration": 112,
    "start_time": "2021-11-16T10:46:53.001Z"
   },
   {
    "duration": 110,
    "start_time": "2021-11-16T10:48:25.775Z"
   },
   {
    "duration": 3,
    "start_time": "2021-11-16T10:50:18.720Z"
   },
   {
    "duration": 4,
    "start_time": "2021-11-16T10:50:37.649Z"
   },
   {
    "duration": 2,
    "start_time": "2021-11-16T10:50:51.884Z"
   },
   {
    "duration": 3,
    "start_time": "2021-11-16T10:51:56.237Z"
   },
   {
    "duration": 101,
    "start_time": "2021-11-16T10:53:13.791Z"
   },
   {
    "duration": 3,
    "start_time": "2021-11-16T10:55:59.186Z"
   },
   {
    "duration": 3,
    "start_time": "2021-11-16T10:56:10.751Z"
   },
   {
    "duration": 3,
    "start_time": "2021-11-16T10:56:49.038Z"
   },
   {
    "duration": 3,
    "start_time": "2021-11-16T10:56:49.174Z"
   },
   {
    "duration": 4,
    "start_time": "2021-11-16T10:56:49.414Z"
   },
   {
    "duration": 3,
    "start_time": "2021-11-16T10:56:49.680Z"
   },
   {
    "duration": 3,
    "start_time": "2021-11-16T10:56:50.370Z"
   },
   {
    "duration": 114,
    "start_time": "2021-11-16T10:59:34.518Z"
   },
   {
    "duration": 3,
    "start_time": "2021-11-16T11:01:41.201Z"
   },
   {
    "duration": 116,
    "start_time": "2021-11-16T11:01:48.754Z"
   },
   {
    "duration": 3,
    "start_time": "2021-11-16T11:02:16.685Z"
   },
   {
    "duration": 3,
    "start_time": "2021-11-16T11:02:19.479Z"
   },
   {
    "duration": 3,
    "start_time": "2021-11-16T11:02:47.067Z"
   },
   {
    "duration": 3,
    "start_time": "2021-11-16T11:02:49.353Z"
   },
   {
    "duration": 3,
    "start_time": "2021-11-16T11:03:07.835Z"
   },
   {
    "duration": 3,
    "start_time": "2021-11-16T11:03:07.953Z"
   },
   {
    "duration": 112,
    "start_time": "2021-11-16T11:07:52.072Z"
   },
   {
    "duration": 187,
    "start_time": "2021-11-16T11:09:23.468Z"
   },
   {
    "duration": 4,
    "start_time": "2021-11-16T11:10:01.455Z"
   },
   {
    "duration": 3,
    "start_time": "2021-11-16T11:10:05.069Z"
   },
   {
    "duration": 4,
    "start_time": "2021-11-16T11:10:13.376Z"
   },
   {
    "duration": 3,
    "start_time": "2021-11-16T11:10:14.434Z"
   },
   {
    "duration": 3,
    "start_time": "2021-11-16T11:10:22.853Z"
   },
   {
    "duration": 4,
    "start_time": "2021-11-16T11:27:29.279Z"
   },
   {
    "duration": 4,
    "start_time": "2021-11-16T11:29:08.919Z"
   },
   {
    "duration": 118,
    "start_time": "2021-11-16T11:29:46.703Z"
   },
   {
    "duration": 437,
    "start_time": "2021-11-16T11:36:02.181Z"
   },
   {
    "duration": 157,
    "start_time": "2021-11-16T11:36:14.388Z"
   },
   {
    "duration": 207,
    "start_time": "2021-11-16T11:47:15.898Z"
   },
   {
    "duration": 3,
    "start_time": "2021-11-16T11:53:52.092Z"
   },
   {
    "duration": 3,
    "start_time": "2021-11-16T11:53:52.236Z"
   },
   {
    "duration": 3,
    "start_time": "2021-11-16T11:59:12.005Z"
   },
   {
    "duration": 112,
    "start_time": "2021-11-16T12:00:33.446Z"
   },
   {
    "duration": 3,
    "start_time": "2021-11-16T12:02:14.453Z"
   },
   {
    "duration": 3,
    "start_time": "2021-11-16T12:02:39.512Z"
   },
   {
    "duration": 106,
    "start_time": "2021-11-16T12:03:03.460Z"
   }
  ],
  "kernelspec": {
   "display_name": "Python 3 (ipykernel)",
   "language": "python",
   "name": "python3"
  },
  "language_info": {
   "codemirror_mode": {
    "name": "ipython",
    "version": 3
   },
   "file_extension": ".py",
   "mimetype": "text/x-python",
   "name": "python",
   "nbconvert_exporter": "python",
   "pygments_lexer": "ipython3",
   "version": "3.9.5"
  },
  "toc": {
   "base_numbering": 1,
   "nav_menu": {},
   "number_sections": true,
   "sideBar": true,
   "skip_h1_title": false,
   "title_cell": "Table of Contents",
   "title_sidebar": "Contents",
   "toc_cell": false,
   "toc_position": {
    "height": "501.111px",
    "left": "51px",
    "top": "111.441px",
    "width": "390.521px"
   },
   "toc_section_display": true,
   "toc_window_display": true
  }
 },
 "nbformat": 4,
 "nbformat_minor": 2
}
